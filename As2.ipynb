{
 "cells": [
  {
   "cell_type": "code",
   "execution_count": 33,
   "metadata": {},
   "outputs": [
    {
     "name": "stdout",
     "output_type": "stream",
     "text": [
      "{'i': 0.08274842999630587, 'q': 0.01050609530845955, 'P': 0.002600664942741042, 'n': 0.048363502031769486, 'E': 0.0006501662356852605, 'l': 0.04783154783893609, 'm': 0.037946065755448836, ' ': 0.1461100849649058, 'A': 0.0013151089767270041, 'd': 0.022282970077576653, 'C': 0.0011968969338751385, 's': 0.06984854082009605, 'M': 0.0016697451052826006, 'L': 0.0001477650535648319, 'S': 0.0023051348356113778, 'f': 0.008171407462135205, 'v': 0.013091983745844108, 'Q': 0.0007092722571111932, 'x': 0.0016845216106390838, 'a': 0.06615441448097525, 'u': 0.07491688215736979, 'j': 0.001004802364240857, 'o': 0.033956409309198375, '\\n': 0.003309937199852235, 'h': 0.004551163649796823, 'g': 0.00985592907277429, 'r': 0.04613224972294053, ';': 5.9106021425932764e-05, 'O': 0.00016254155892131512, 'b': 0.009264868858514961, 'c': 0.03398596231991134, 'I': 0.001226449944588105, 'N': 0.0026302179534540083, 'e': 0.09352050240118212, ',': 0.013594384927964536, 'F': 0.0006058367196158108, 'D': 0.0019209456963428149, 'V': 0.001241226449944588, 't': 0.06554857776135944, 'p': 0.017584041374214997, 'U': 0.0006353897303287773, '.': 0.018958256372367935}\n",
      "0.008511600000019826\n"
     ]
    }
   ],
   "source": [
    "import time\n",
    "def prob1(title):\n",
    "    text=open(title,'r').read()\n",
    "    symbols=set(text)\n",
    "    prob={}\n",
    "    for i in symbols:\n",
    "        prob[i]=text.count(i)/len(text) #prob['a']=text.count('a')/len(text)= 5/100\n",
    "    print(prob)\n",
    "now=time.perf_counter()\n",
    "prob1('Text.txt')\n",
    "stop=time.perf_counter()\n",
    "elapsed=stop-now\n",
    "print(elapsed)"
   ]
  },
  {
   "cell_type": "code",
   "execution_count": null,
   "metadata": {},
   "outputs": [],
   "source": []
  }
 ],
 "metadata": {
  "kernelspec": {
   "display_name": "Python 3",
   "language": "python",
   "name": "python3"
  },
  "language_info": {
   "codemirror_mode": {
    "name": "ipython",
    "version": 3
   },
   "file_extension": ".py",
   "mimetype": "text/x-python",
   "name": "python",
   "nbconvert_exporter": "python",
   "pygments_lexer": "ipython3",
   "version": "3.8.5"
  }
 },
 "nbformat": 4,
 "nbformat_minor": 4
}
